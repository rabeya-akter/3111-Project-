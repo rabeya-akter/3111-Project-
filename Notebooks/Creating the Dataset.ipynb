{
 "cells": [
  {
   "cell_type": "markdown",
   "id": "79156b8d",
   "metadata": {},
   "source": [
    "# Importing Libraries"
   ]
  },
  {
   "cell_type": "code",
   "execution_count": 1,
   "id": "9e5a81cf",
   "metadata": {},
   "outputs": [],
   "source": [
    "import pandas as pd\n",
    "import datetime\n",
    "\n",
    "from varname import nameof\n",
    "import time"
   ]
  },
  {
   "cell_type": "markdown",
   "id": "608fcbb4",
   "metadata": {},
   "source": [
    "# Functions for Calculating Technical Indicators"
   ]
  },
  {
   "cell_type": "code",
   "execution_count": 2,
   "id": "b17751e9",
   "metadata": {},
   "outputs": [],
   "source": [
    "#function to get the stock name\n",
    "\n",
    "def variable_to_str(df): \n",
    "    variable_name = list(df.keys())[1] \n",
    "    return variable_name[6:]"
   ]
  },
  {
   "cell_type": "code",
   "execution_count": 3,
   "id": "298ebd56",
   "metadata": {},
   "outputs": [],
   "source": [
    "#Moving Average Convergence Divergence (MACD)\n",
    "\n",
    "#https://aleksandarhaber.com/macd-moving-average-convergence-divergence-of-stock-price-time-series-in-pandas-and-python/\n",
    "\n",
    "\n",
    "def MACD(data):\n",
    "    \n",
    "    short_period = 12\n",
    "    long_period  = 26\n",
    "    signal_period = 9\n",
    "\n",
    "    stock_name = variable_to_str(df=data)\n",
    "    \n",
    "    data[\"ewm_short\"] = data[\"Price_\"+stock_name].ewm(span=short_period, adjust=False).mean()\n",
    "    data[\"ewm_long\"] = data[\"Price_\"+stock_name].ewm(span=long_period, adjust=False).mean()\n",
    "    data[\"MACD\"] = data[\"ewm_short\"] - data[\"ewm_long\"]\n",
    "    data[\"signal_MACD\"] = data[\"MACD\"].ewm(span=signal_period, adjust=False).mean()\n",
    "    data[\"bars\"] = data[\"MACD\"] - data[\"signal_MACD\"]\n",
    "    \n",
    "    data.drop([\"ewm_short\",\"ewm_long\",\"signal_MACD\",\"bars\"],axis=1,inplace=True)\n",
    "    \n",
    "    data.rename(columns={\"MACD\":\"MACD_\"+stock_name},inplace=True)\n",
    "    \n",
    "    "
   ]
  },
  {
   "cell_type": "code",
   "execution_count": 4,
   "id": "91168e25",
   "metadata": {},
   "outputs": [],
   "source": [
    "#Relative Strength Index (RSI)\n",
    "\n",
    "#https://www.youtube.com/watch?v=2H2Gd7zYVA8\n",
    "\n",
    "def RSI(data):\n",
    "    \n",
    "    stock_name = variable_to_str(df=data)\n",
    "    \n",
    "    data[\"delta\"] = data[\"Price_\"+stock_name].diff()\n",
    "    data[\"up\"] = data[\"delta\"].clip(lower=0)\n",
    "    data[\"down\"] = -1 * data[\"delta\"].clip(upper=0)\n",
    "    \n",
    "    data[\"ema_up\"] = data[\"up\"].ewm(com=13, adjust=False).mean()\n",
    "    data[\"ema_down\"] = data[\"down\"].ewm(com=13, adjust=False).mean()\n",
    "    \n",
    "    data[\"rs\"] = data[\"ema_up\"] / data[\"ema_down\"]\n",
    "    data[\"RSI\"] = 100 - (100 / (1 + data[\"rs\"]))\n",
    "    \n",
    "    data.drop([\"delta\",\"up\",\"down\",\"ema_up\",\"ema_down\",\"rs\"], axis=1, inplace=True)\n",
    "    data.rename(columns = {\"RSI\":\"RSI_\"+stock_name}, inplace=True)\n",
    "    "
   ]
  },
  {
   "cell_type": "code",
   "execution_count": 5,
   "id": "e1b4cda3",
   "metadata": {},
   "outputs": [],
   "source": [
    "#Commodity Channel Index (CCI)\n",
    "\n",
    "#https://www.fidelity.com/learning-center/trading-investing/technical-analysis/technical-indicator-guide/cci\n",
    "#https://gist.github.com/quantra-go-algo/1b37bfb74d69148f0dfbdb5a2c7bdb25\n",
    "\n",
    "#TP = Typical Price\n",
    "#sma = simple moving average\n",
    "#mad = mean deviation\n",
    "\n",
    "def CCI(data, number_of_days):\n",
    "    \n",
    "    stock_name = variable_to_str(df=data)\n",
    "    \n",
    "    data[\"TP\"] = (data[\"High_\"+stock_name] + data[\"Low_\"+stock_name] + data[\"Price_\"+stock_name])/3\n",
    "    data['sma'] = data['TP'].rolling(number_of_days).mean()\n",
    "    data['mad'] = data['TP'].rolling(number_of_days).apply(lambda x: pd.Series(x).mad())\n",
    "    data['CCI'] = (data['TP'] - data['sma']) / (0.015 * data['mad']) \n",
    "    \n",
    "    data.drop([\"TP\",\"sma\", \"mad\"], axis=1, inplace=True)\n",
    "    data.rename(columns = {\"CCI\":\"CCI_\"+stock_name}, inplace=True)\n"
   ]
  },
  {
   "cell_type": "code",
   "execution_count": 6,
   "id": "4e38935d",
   "metadata": {},
   "outputs": [],
   "source": [
    "# Average Directional Index (ADX)\n",
    "\n",
    "#https://medium.com/codex/algorithmic-trading-with-average-directional-index-in-python-2b5a20ecf06a\n",
    "\n",
    "def calculateValue(df, column, index):\n",
    "    previous_value = df.loc[index-1, column]\n",
    "    current_value = df.loc[index, column]\n",
    "    return current_value, previous_value\n",
    "\n",
    "def calculateDM(df, index, stock_name):\n",
    "    current_high, previous_high = calculateValue(df, \"High_\"+stock_name, index)\n",
    "    current_low, previous_low = calculateValue(df, \"Low_\"+stock_name, index)\n",
    "    \n",
    "    dm_positive = current_high - previous_high\n",
    "    dm_negative = current_low - previous_low\n",
    "    \n",
    "    if dm_positive > dm_negative:\n",
    "        if dm_positive < 0:\n",
    "            dm_positive = 0.00\n",
    "        dm_negative = 0.00\n",
    "        return dm_positive, dm_negative\n",
    "\n",
    "    elif dm_positive < dm_negative:\n",
    "        if dm_negative < 0:\n",
    "            dm_negative = 0.00\n",
    "        dm_positive = 0.00\n",
    "        return dm_positive, dm_negative\n",
    "    \n",
    "    else:\n",
    "        if dm_positive < 0:\n",
    "            dm_positive = 0.00\n",
    "        dm_negative = 0.00\n",
    "        return dm_positive, dm_negative\n",
    "\n",
    "def calculateTR(df, index, stock_name):\n",
    "    current_high, previous_high = calculateValue(df, \"High_\"+stock_name, index)\n",
    "    current_low, previous_low = calculateValue(df, \"Low_\"+stock_name, index)\n",
    "    current_close, previous_close = calculateValue(df, \"Price_\"+stock_name, index)\n",
    "    ranges = [current_high - current_low, abs(current_high - previous_close), abs(current_low - previous_close)]\n",
    "    TR = max(ranges)\n",
    "    return TR\n",
    "\n",
    "def calculate_first_14(df, index, column):\n",
    "    result = 0\n",
    "    for i in range(index-13, index+1):\n",
    "        result += df.loc[i, column]\n",
    "    return result\n",
    "\n",
    "def calculate_subsequent_14(df, index, column):\n",
    "    return(df.loc[index-1, column+'14'] - (df.loc[index-1, column+'14']/14) + df.loc[index, column])\n",
    "\n",
    "\n",
    "def calculate_first_adx(df, index):\n",
    "    result = 0\n",
    "    for i in range(index-13, index+1):\n",
    "        result += df.loc[i, 'DX']\n",
    "    return(result/14)\n",
    "\n",
    "def calculate_adx(df, index):\n",
    "    return(round(((df.loc[index-1, 'ADX']*13) + df.loc[index, 'DX'])/14, 2))\n",
    "\n",
    "def ADX(data):\n",
    "    \n",
    "    stock_name = variable_to_str(df=data)\n",
    "    \n",
    "    for i in range(1, len(data)):\n",
    "        dm_pos, dm_neg = calculateDM(data, i, stock_name)\n",
    "        TR = calculateTR(data, i, stock_name)\n",
    "        data.loc[i, '+DM'] = dm_pos\n",
    "        data.loc[i, '-DM'] = dm_neg\n",
    "        data.loc[i, 'TR'] = TR\n",
    "\n",
    "        if data.TR.count() == 14:\n",
    "            data.loc[i, 'TR14'] = calculate_first_14(data, i, 'TR')\n",
    "            data.loc[i, '+DM14'] = calculate_first_14(data, i, '+DM')\n",
    "            data.loc[i, '-DM14'] = calculate_first_14(data, i, '-DM')\n",
    "\n",
    "        elif data.TR.count() >= 14:\n",
    "            data.loc[i, 'TR14'] = round(calculate_subsequent_14(data, i, 'TR'),2)\n",
    "            data.loc[i, '+DM14'] = round(calculate_subsequent_14(data, i, '+DM'), 2)\n",
    "            data.loc[i, '-DM14'] = round(calculate_subsequent_14(data, i, '-DM'), 2)\n",
    "\n",
    "        if 'TR14' in data.columns:\n",
    "            data.loc[i, '+DI'] = round((data.loc[i, '+DM14'] / data.loc[i, 'TR14'])*100, 2)\n",
    "            data.loc[i, '-DI'] = round((data.loc[i, '-DM14'] / data.loc[i, 'TR14'])*100, 2)\n",
    "\n",
    "            data.loc[i, 'DX'] = round((abs(data.loc[i, '+DI'] - data.loc[i, '-DI'])/abs(data.loc[i, '+DI'] + data.loc[i, '-DI']) )*100 , 2)\n",
    "\n",
    "        if 'DX' in data.columns:\n",
    "            if data.DX.count() == 14:\n",
    "                data.loc[i, 'ADX'] = calculate_first_adx(data, i)\n",
    "\n",
    "            elif data.DX.count() >= 14:\n",
    "                data.loc[i, 'ADX'] = calculate_adx(data, i)\n",
    "    \n",
    "    data.drop([\"+DM\",\"-DM\",\"TR\",\"TR14\",\"+DM14\",\"-DM14\",\"+DI\",\"-DI\",\"DX\"], axis=1, inplace=True)\n",
    "    data.rename(columns={\"ADX\":\"ADX_\"+stock_name},inplace=True)\n"
   ]
  },
  {
   "cell_type": "markdown",
   "id": "720e4360",
   "metadata": {},
   "source": [
    "# GRAE - Grameenphone Ltd"
   ]
  },
  {
   "cell_type": "code",
   "execution_count": 24,
   "id": "6beda6e9",
   "metadata": {},
   "outputs": [
    {
     "name": "stdout",
     "output_type": "stream",
     "text": [
      "3017\n"
     ]
    },
    {
     "data": {
      "text/html": [
       "<div>\n",
       "<style scoped>\n",
       "    .dataframe tbody tr th:only-of-type {\n",
       "        vertical-align: middle;\n",
       "    }\n",
       "\n",
       "    .dataframe tbody tr th {\n",
       "        vertical-align: top;\n",
       "    }\n",
       "\n",
       "    .dataframe thead th {\n",
       "        text-align: right;\n",
       "    }\n",
       "</style>\n",
       "<table border=\"1\" class=\"dataframe\">\n",
       "  <thead>\n",
       "    <tr style=\"text-align: right;\">\n",
       "      <th></th>\n",
       "      <th>Date</th>\n",
       "      <th>Price</th>\n",
       "      <th>Open</th>\n",
       "      <th>High</th>\n",
       "      <th>Low</th>\n",
       "      <th>Vol.</th>\n",
       "      <th>Change %</th>\n",
       "    </tr>\n",
       "  </thead>\n",
       "  <tbody>\n",
       "    <tr>\n",
       "      <th>0</th>\n",
       "      <td>Sep 04, 2022</td>\n",
       "      <td>288.7</td>\n",
       "      <td>295.0</td>\n",
       "      <td>295.8</td>\n",
       "      <td>288.0</td>\n",
       "      <td>121.84K</td>\n",
       "      <td>-0.45%</td>\n",
       "    </tr>\n",
       "    <tr>\n",
       "      <th>1</th>\n",
       "      <td>Sep 01, 2022</td>\n",
       "      <td>290.0</td>\n",
       "      <td>290.0</td>\n",
       "      <td>291.0</td>\n",
       "      <td>289.0</td>\n",
       "      <td>161.03K</td>\n",
       "      <td>0.76%</td>\n",
       "    </tr>\n",
       "    <tr>\n",
       "      <th>2</th>\n",
       "      <td>Aug 31, 2022</td>\n",
       "      <td>287.8</td>\n",
       "      <td>295.7</td>\n",
       "      <td>295.7</td>\n",
       "      <td>287.0</td>\n",
       "      <td>167.84K</td>\n",
       "      <td>-0.10%</td>\n",
       "    </tr>\n",
       "    <tr>\n",
       "      <th>3</th>\n",
       "      <td>Aug 30, 2022</td>\n",
       "      <td>288.1</td>\n",
       "      <td>295.2</td>\n",
       "      <td>295.3</td>\n",
       "      <td>287.8</td>\n",
       "      <td>148.11K</td>\n",
       "      <td>-1.74%</td>\n",
       "    </tr>\n",
       "    <tr>\n",
       "      <th>4</th>\n",
       "      <td>Aug 29, 2022</td>\n",
       "      <td>293.2</td>\n",
       "      <td>290.0</td>\n",
       "      <td>294.1</td>\n",
       "      <td>288.9</td>\n",
       "      <td>205.84K</td>\n",
       "      <td>1.52%</td>\n",
       "    </tr>\n",
       "  </tbody>\n",
       "</table>\n",
       "</div>"
      ],
      "text/plain": [
       "           Date  Price   Open   High    Low     Vol. Change %\n",
       "0  Sep 04, 2022  288.7  295.0  295.8  288.0  121.84K   -0.45%\n",
       "1  Sep 01, 2022  290.0  290.0  291.0  289.0  161.03K    0.76%\n",
       "2  Aug 31, 2022  287.8  295.7  295.7  287.0  167.84K   -0.10%\n",
       "3  Aug 30, 2022  288.1  295.2  295.3  287.8  148.11K   -1.74%\n",
       "4  Aug 29, 2022  293.2  290.0  294.1  288.9  205.84K    1.52%"
      ]
     },
     "execution_count": 24,
     "metadata": {},
     "output_type": "execute_result"
    }
   ],
   "source": [
    "GRAE = pd.read_csv(\"GRAE Historical Data.csv\")\n",
    "len_grae = len(GRAE)\n",
    "print(len_grae)\n",
    "GRAE.head()"
   ]
  },
  {
   "cell_type": "code",
   "execution_count": 25,
   "id": "a0de9414",
   "metadata": {},
   "outputs": [
    {
     "data": {
      "text/plain": [
       "Index(['Date', 'Price_GRAE', 'Open_GRAE', 'High_GRAE', 'Low_GRAE', 'Vol_GRAE',\n",
       "       'Change_GRAE'],\n",
       "      dtype='object')"
      ]
     },
     "execution_count": 25,
     "metadata": {},
     "output_type": "execute_result"
    }
   ],
   "source": [
    "GRAE.rename(columns={\"Price\":\"Price_GRAE\",\"Open\":\"Open_GRAE\",\"High\":\"High_GRAE\",\"Low\":\"Low_GRAE\",\"Vol.\":\"Vol_GRAE\",\"Change %\":\"Change_GRAE\"},inplace=True)\n",
    "GRAE.columns"
   ]
  },
  {
   "cell_type": "code",
   "execution_count": 26,
   "id": "60b01168",
   "metadata": {},
   "outputs": [
    {
     "data": {
      "text/plain": [
       "Date            object\n",
       "Price_GRAE     float64\n",
       "Open_GRAE      float64\n",
       "High_GRAE      float64\n",
       "Low_GRAE       float64\n",
       "Vol_GRAE        object\n",
       "Change_GRAE     object\n",
       "dtype: object"
      ]
     },
     "execution_count": 26,
     "metadata": {},
     "output_type": "execute_result"
    }
   ],
   "source": [
    "GRAE.dtypes"
   ]
  },
  {
   "cell_type": "code",
   "execution_count": 27,
   "id": "2c2131bd",
   "metadata": {},
   "outputs": [
    {
     "data": {
      "text/plain": [
       "Date           datetime64[ns]\n",
       "Price_GRAE            float64\n",
       "Open_GRAE             float64\n",
       "High_GRAE             float64\n",
       "Low_GRAE              float64\n",
       "Vol_GRAE               object\n",
       "Change_GRAE            object\n",
       "dtype: object"
      ]
     },
     "execution_count": 27,
     "metadata": {},
     "output_type": "execute_result"
    }
   ],
   "source": [
    "GRAE[\"Date\"] = pd.to_datetime(GRAE[\"Date\"])\n",
    "GRAE.dtypes"
   ]
  },
  {
   "cell_type": "code",
   "execution_count": 28,
   "id": "ecc71f22",
   "metadata": {},
   "outputs": [
    {
     "name": "stdout",
     "output_type": "stream",
     "text": [
      "2\n"
     ]
    },
    {
     "data": {
      "text/html": [
       "<div>\n",
       "<style scoped>\n",
       "    .dataframe tbody tr th:only-of-type {\n",
       "        vertical-align: middle;\n",
       "    }\n",
       "\n",
       "    .dataframe tbody tr th {\n",
       "        vertical-align: top;\n",
       "    }\n",
       "\n",
       "    .dataframe thead th {\n",
       "        text-align: right;\n",
       "    }\n",
       "</style>\n",
       "<table border=\"1\" class=\"dataframe\">\n",
       "  <thead>\n",
       "    <tr style=\"text-align: right;\">\n",
       "      <th></th>\n",
       "      <th>Date</th>\n",
       "      <th>Price_GRAE</th>\n",
       "      <th>Open_GRAE</th>\n",
       "      <th>High_GRAE</th>\n",
       "      <th>Low_GRAE</th>\n",
       "      <th>Vol_GRAE</th>\n",
       "      <th>Change_GRAE</th>\n",
       "    </tr>\n",
       "  </thead>\n",
       "  <tbody>\n",
       "    <tr>\n",
       "      <th>809</th>\n",
       "      <td>2019-02-17</td>\n",
       "      <td>389.9</td>\n",
       "      <td>389.9</td>\n",
       "      <td>389.9</td>\n",
       "      <td>389.9</td>\n",
       "      <td>NaN</td>\n",
       "      <td>0.00%</td>\n",
       "    </tr>\n",
       "    <tr>\n",
       "      <th>939</th>\n",
       "      <td>2018-08-05</td>\n",
       "      <td>389.4</td>\n",
       "      <td>389.4</td>\n",
       "      <td>389.4</td>\n",
       "      <td>389.4</td>\n",
       "      <td>NaN</td>\n",
       "      <td>0.00%</td>\n",
       "    </tr>\n",
       "  </tbody>\n",
       "</table>\n",
       "</div>"
      ],
      "text/plain": [
       "          Date  Price_GRAE  Open_GRAE  High_GRAE  Low_GRAE Vol_GRAE  \\\n",
       "809 2019-02-17       389.9      389.9      389.9     389.9      NaN   \n",
       "939 2018-08-05       389.4      389.4      389.4     389.4      NaN   \n",
       "\n",
       "    Change_GRAE  \n",
       "809       0.00%  \n",
       "939       0.00%  "
      ]
     },
     "execution_count": 28,
     "metadata": {},
     "output_type": "execute_result"
    }
   ],
   "source": [
    "print(GRAE.isna().sum().sum())\n",
    "GRAE[GRAE.isna().any(axis=1)]"
   ]
  },
  {
   "cell_type": "code",
   "execution_count": 29,
   "id": "2c3c914c",
   "metadata": {},
   "outputs": [],
   "source": [
    "GRAE.dropna(inplace=True)\n",
    "GRAE.isna().sum().sum()\n",
    "GRAE.reset_index(drop=True, inplace=True)"
   ]
  },
  {
   "cell_type": "code",
   "execution_count": 30,
   "id": "6c7c65db",
   "metadata": {
    "scrolled": true
   },
   "outputs": [
    {
     "name": "stdout",
     "output_type": "stream",
     "text": [
      "K    2698\n",
      "M     317\n",
      "Name: Vol_GRAE, dtype: int64\n"
     ]
    }
   ],
   "source": [
    "#Vol\n",
    "GRAE[\"Vol_GRAE\"] = GRAE[\"Vol_GRAE\"].astype(\"str\")\n",
    "print(GRAE[\"Vol_GRAE\"].apply(lambda x:x[-1:]).value_counts())\n",
    "units = {'K':1e3, 'M':1e6}\n",
    "GRAE[\"Vol_GRAE\"] = GRAE[\"Vol_GRAE\"].apply(lambda x:float(x[:-1])*units[x[-1:]])\n",
    "\n",
    "\n",
    "#Change\n",
    "GRAE[\"Change_GRAE\"] = GRAE[\"Change_GRAE\"].apply(lambda x:float(x[:-1]))"
   ]
  },
  {
   "cell_type": "code",
   "execution_count": 31,
   "id": "9910ba5b",
   "metadata": {},
   "outputs": [
    {
     "name": "stdout",
     "output_type": "stream",
     "text": [
      "Wall time: 22.7 s\n"
     ]
    }
   ],
   "source": [
    "%%time\n",
    "\n",
    "#calculating MACD\n",
    "MACD(GRAE)\n",
    "\n",
    "#calculating RSI\n",
    "RSI(GRAE)\n",
    "\n",
    "#calculating CCI\n",
    "CCI(GRAE, number_of_days = 14)\n",
    "\n",
    "#calculating RSI\n",
    "ADX(GRAE)"
   ]
  },
  {
   "cell_type": "code",
   "execution_count": 32,
   "id": "5be01a63",
   "metadata": {},
   "outputs": [
    {
     "data": {
      "text/html": [
       "<div>\n",
       "<style scoped>\n",
       "    .dataframe tbody tr th:only-of-type {\n",
       "        vertical-align: middle;\n",
       "    }\n",
       "\n",
       "    .dataframe tbody tr th {\n",
       "        vertical-align: top;\n",
       "    }\n",
       "\n",
       "    .dataframe thead th {\n",
       "        text-align: right;\n",
       "    }\n",
       "</style>\n",
       "<table border=\"1\" class=\"dataframe\">\n",
       "  <thead>\n",
       "    <tr style=\"text-align: right;\">\n",
       "      <th></th>\n",
       "      <th>Date</th>\n",
       "      <th>Price_GRAE</th>\n",
       "      <th>MACD_GRAE</th>\n",
       "      <th>RSI_GRAE</th>\n",
       "      <th>CCI_GRAE</th>\n",
       "      <th>ADX_GRAE</th>\n",
       "    </tr>\n",
       "  </thead>\n",
       "  <tbody>\n",
       "    <tr>\n",
       "      <th>0</th>\n",
       "      <td>2022-09-04</td>\n",
       "      <td>288.7</td>\n",
       "      <td>0.000000</td>\n",
       "      <td>NaN</td>\n",
       "      <td>NaN</td>\n",
       "      <td>NaN</td>\n",
       "    </tr>\n",
       "    <tr>\n",
       "      <th>1</th>\n",
       "      <td>2022-09-01</td>\n",
       "      <td>290.0</td>\n",
       "      <td>0.103704</td>\n",
       "      <td>100.000000</td>\n",
       "      <td>NaN</td>\n",
       "      <td>NaN</td>\n",
       "    </tr>\n",
       "    <tr>\n",
       "      <th>2</th>\n",
       "      <td>2022-08-31</td>\n",
       "      <td>287.8</td>\n",
       "      <td>0.008273</td>\n",
       "      <td>88.481675</td>\n",
       "      <td>NaN</td>\n",
       "      <td>NaN</td>\n",
       "    </tr>\n",
       "    <tr>\n",
       "      <th>3</th>\n",
       "      <td>2022-08-30</td>\n",
       "      <td>288.1</td>\n",
       "      <td>-0.042658</td>\n",
       "      <td>88.673267</td>\n",
       "      <td>NaN</td>\n",
       "      <td>NaN</td>\n",
       "    </tr>\n",
       "    <tr>\n",
       "      <th>4</th>\n",
       "      <td>2022-08-29</td>\n",
       "      <td>293.2</td>\n",
       "      <td>0.324763</td>\n",
       "      <td>91.317344</td>\n",
       "      <td>NaN</td>\n",
       "      <td>NaN</td>\n",
       "    </tr>\n",
       "  </tbody>\n",
       "</table>\n",
       "</div>"
      ],
      "text/plain": [
       "        Date  Price_GRAE  MACD_GRAE    RSI_GRAE  CCI_GRAE  ADX_GRAE\n",
       "0 2022-09-04       288.7   0.000000         NaN       NaN       NaN\n",
       "1 2022-09-01       290.0   0.103704  100.000000       NaN       NaN\n",
       "2 2022-08-31       287.8   0.008273   88.481675       NaN       NaN\n",
       "3 2022-08-30       288.1  -0.042658   88.673267       NaN       NaN\n",
       "4 2022-08-29       293.2   0.324763   91.317344       NaN       NaN"
      ]
     },
     "execution_count": 32,
     "metadata": {},
     "output_type": "execute_result"
    }
   ],
   "source": [
    "GRAE.drop([\"Open_GRAE\", \"High_GRAE\", \"Low_GRAE\", \"Vol_GRAE\", \"Change_GRAE\"], axis=1, inplace=True)\n",
    "GRAE.head()"
   ]
  },
  {
   "cell_type": "code",
   "execution_count": 33,
   "id": "4e06aa73",
   "metadata": {},
   "outputs": [
    {
     "data": {
      "text/plain": [
       "Date           0\n",
       "Price_GRAE     0\n",
       "MACD_GRAE      0\n",
       "RSI_GRAE       1\n",
       "CCI_GRAE      13\n",
       "ADX_GRAE      27\n",
       "dtype: int64"
      ]
     },
     "execution_count": 33,
     "metadata": {},
     "output_type": "execute_result"
    }
   ],
   "source": [
    "GRAE.isna().sum()"
   ]
  },
  {
   "cell_type": "code",
   "execution_count": 34,
   "id": "be8ca421",
   "metadata": {},
   "outputs": [],
   "source": [
    "GRAE[\"RSI_GRAE\"].bfill(limit=1, inplace=True)\n",
    "GRAE[\"CCI_GRAE\"].bfill(limit=13, inplace=True)\n",
    "GRAE[\"ADX_GRAE\"].bfill(limit=27, inplace=True)"
   ]
  },
  {
   "cell_type": "code",
   "execution_count": 35,
   "id": "c74b2be2",
   "metadata": {},
   "outputs": [
    {
     "data": {
      "text/plain": [
       "Date          0\n",
       "Price_GRAE    0\n",
       "MACD_GRAE     0\n",
       "RSI_GRAE      0\n",
       "CCI_GRAE      0\n",
       "ADX_GRAE      0\n",
       "dtype: int64"
      ]
     },
     "execution_count": 35,
     "metadata": {},
     "output_type": "execute_result"
    }
   ],
   "source": [
    "GRAE.isna().sum()"
   ]
  },
  {
   "cell_type": "code",
   "execution_count": 36,
   "id": "e3300954",
   "metadata": {},
   "outputs": [
    {
     "data": {
      "text/plain": [
       "Date          datetime64[ns]\n",
       "Price_GRAE           float64\n",
       "MACD_GRAE            float64\n",
       "RSI_GRAE             float64\n",
       "CCI_GRAE             float64\n",
       "ADX_GRAE             float64\n",
       "dtype: object"
      ]
     },
     "execution_count": 36,
     "metadata": {},
     "output_type": "execute_result"
    }
   ],
   "source": [
    "GRAE.dtypes"
   ]
  },
  {
   "cell_type": "code",
   "execution_count": 37,
   "id": "2cfa686d",
   "metadata": {},
   "outputs": [
    {
     "data": {
      "text/html": [
       "<div>\n",
       "<style scoped>\n",
       "    .dataframe tbody tr th:only-of-type {\n",
       "        vertical-align: middle;\n",
       "    }\n",
       "\n",
       "    .dataframe tbody tr th {\n",
       "        vertical-align: top;\n",
       "    }\n",
       "\n",
       "    .dataframe thead th {\n",
       "        text-align: right;\n",
       "    }\n",
       "</style>\n",
       "<table border=\"1\" class=\"dataframe\">\n",
       "  <thead>\n",
       "    <tr style=\"text-align: right;\">\n",
       "      <th></th>\n",
       "      <th>Price_GRAE</th>\n",
       "      <th>MACD_GRAE</th>\n",
       "      <th>RSI_GRAE</th>\n",
       "      <th>CCI_GRAE</th>\n",
       "      <th>ADX_GRAE</th>\n",
       "    </tr>\n",
       "  </thead>\n",
       "  <tbody>\n",
       "    <tr>\n",
       "      <th>count</th>\n",
       "      <td>3015.000000</td>\n",
       "      <td>3015.000000</td>\n",
       "      <td>3015.000000</td>\n",
       "      <td>3015.000000</td>\n",
       "      <td>3015.000000</td>\n",
       "    </tr>\n",
       "    <tr>\n",
       "      <th>mean</th>\n",
       "      <td>288.928590</td>\n",
       "      <td>-0.235906</td>\n",
       "      <td>49.732764</td>\n",
       "      <td>5.267521</td>\n",
       "      <td>20.606776</td>\n",
       "    </tr>\n",
       "    <tr>\n",
       "      <th>std</th>\n",
       "      <td>84.898621</td>\n",
       "      <td>6.382620</td>\n",
       "      <td>13.913683</td>\n",
       "      <td>112.792073</td>\n",
       "      <td>9.368877</td>\n",
       "    </tr>\n",
       "    <tr>\n",
       "      <th>min</th>\n",
       "      <td>139.100000</td>\n",
       "      <td>-31.711179</td>\n",
       "      <td>14.643952</td>\n",
       "      <td>-348.025509</td>\n",
       "      <td>6.500000</td>\n",
       "    </tr>\n",
       "    <tr>\n",
       "      <th>25%</th>\n",
       "      <td>214.700000</td>\n",
       "      <td>-3.575598</td>\n",
       "      <td>39.283766</td>\n",
       "      <td>-85.646615</td>\n",
       "      <td>13.930000</td>\n",
       "    </tr>\n",
       "    <tr>\n",
       "      <th>50%</th>\n",
       "      <td>295.000000</td>\n",
       "      <td>-0.194910</td>\n",
       "      <td>49.407021</td>\n",
       "      <td>0.589226</td>\n",
       "      <td>18.500000</td>\n",
       "    </tr>\n",
       "    <tr>\n",
       "      <th>75%</th>\n",
       "      <td>349.750000</td>\n",
       "      <td>3.605784</td>\n",
       "      <td>60.621753</td>\n",
       "      <td>100.235440</td>\n",
       "      <td>24.430000</td>\n",
       "    </tr>\n",
       "    <tr>\n",
       "      <th>max</th>\n",
       "      <td>510.700000</td>\n",
       "      <td>18.718398</td>\n",
       "      <td>100.000000</td>\n",
       "      <td>466.666667</td>\n",
       "      <td>64.100000</td>\n",
       "    </tr>\n",
       "  </tbody>\n",
       "</table>\n",
       "</div>"
      ],
      "text/plain": [
       "        Price_GRAE    MACD_GRAE     RSI_GRAE     CCI_GRAE     ADX_GRAE\n",
       "count  3015.000000  3015.000000  3015.000000  3015.000000  3015.000000\n",
       "mean    288.928590    -0.235906    49.732764     5.267521    20.606776\n",
       "std      84.898621     6.382620    13.913683   112.792073     9.368877\n",
       "min     139.100000   -31.711179    14.643952  -348.025509     6.500000\n",
       "25%     214.700000    -3.575598    39.283766   -85.646615    13.930000\n",
       "50%     295.000000    -0.194910    49.407021     0.589226    18.500000\n",
       "75%     349.750000     3.605784    60.621753   100.235440    24.430000\n",
       "max     510.700000    18.718398   100.000000   466.666667    64.100000"
      ]
     },
     "execution_count": 37,
     "metadata": {},
     "output_type": "execute_result"
    }
   ],
   "source": [
    "GRAE.describe()"
   ]
  },
  {
   "cell_type": "markdown",
   "id": "ccc0ae92",
   "metadata": {},
   "source": [
    "# SQPH - Square Pharmaceuticals Ltd "
   ]
  },
  {
   "cell_type": "code",
   "execution_count": 38,
   "id": "ad9ac1fc",
   "metadata": {},
   "outputs": [
    {
     "name": "stdout",
     "output_type": "stream",
     "text": [
      "3504\n"
     ]
    },
    {
     "data": {
      "text/html": [
       "<div>\n",
       "<style scoped>\n",
       "    .dataframe tbody tr th:only-of-type {\n",
       "        vertical-align: middle;\n",
       "    }\n",
       "\n",
       "    .dataframe tbody tr th {\n",
       "        vertical-align: top;\n",
       "    }\n",
       "\n",
       "    .dataframe thead th {\n",
       "        text-align: right;\n",
       "    }\n",
       "</style>\n",
       "<table border=\"1\" class=\"dataframe\">\n",
       "  <thead>\n",
       "    <tr style=\"text-align: right;\">\n",
       "      <th></th>\n",
       "      <th>Date</th>\n",
       "      <th>Price</th>\n",
       "      <th>Open</th>\n",
       "      <th>High</th>\n",
       "      <th>Low</th>\n",
       "      <th>Vol.</th>\n",
       "      <th>Change %</th>\n",
       "    </tr>\n",
       "  </thead>\n",
       "  <tbody>\n",
       "    <tr>\n",
       "      <th>0</th>\n",
       "      <td>Sep 04, 2022</td>\n",
       "      <td>212.6</td>\n",
       "      <td>211.8</td>\n",
       "      <td>213.5</td>\n",
       "      <td>211.5</td>\n",
       "      <td>276.44K</td>\n",
       "      <td>0.38%</td>\n",
       "    </tr>\n",
       "    <tr>\n",
       "      <th>1</th>\n",
       "      <td>Sep 01, 2022</td>\n",
       "      <td>211.8</td>\n",
       "      <td>213.0</td>\n",
       "      <td>213.0</td>\n",
       "      <td>211.4</td>\n",
       "      <td>1.02M</td>\n",
       "      <td>0.33%</td>\n",
       "    </tr>\n",
       "    <tr>\n",
       "      <th>2</th>\n",
       "      <td>Aug 31, 2022</td>\n",
       "      <td>211.1</td>\n",
       "      <td>212.0</td>\n",
       "      <td>213.0</td>\n",
       "      <td>209.9</td>\n",
       "      <td>892.16K</td>\n",
       "      <td>-0.38%</td>\n",
       "    </tr>\n",
       "    <tr>\n",
       "      <th>3</th>\n",
       "      <td>Aug 30, 2022</td>\n",
       "      <td>211.9</td>\n",
       "      <td>213.0</td>\n",
       "      <td>213.0</td>\n",
       "      <td>211.5</td>\n",
       "      <td>679.86K</td>\n",
       "      <td>-0.09%</td>\n",
       "    </tr>\n",
       "    <tr>\n",
       "      <th>4</th>\n",
       "      <td>Aug 29, 2022</td>\n",
       "      <td>212.1</td>\n",
       "      <td>214.0</td>\n",
       "      <td>214.0</td>\n",
       "      <td>211.5</td>\n",
       "      <td>764.64K</td>\n",
       "      <td>-0.52%</td>\n",
       "    </tr>\n",
       "  </tbody>\n",
       "</table>\n",
       "</div>"
      ],
      "text/plain": [
       "           Date  Price   Open   High    Low     Vol. Change %\n",
       "0  Sep 04, 2022  212.6  211.8  213.5  211.5  276.44K    0.38%\n",
       "1  Sep 01, 2022  211.8  213.0  213.0  211.4    1.02M    0.33%\n",
       "2  Aug 31, 2022  211.1  212.0  213.0  209.9  892.16K   -0.38%\n",
       "3  Aug 30, 2022  211.9  213.0  213.0  211.5  679.86K   -0.09%\n",
       "4  Aug 29, 2022  212.1  214.0  214.0  211.5  764.64K   -0.52%"
      ]
     },
     "execution_count": 38,
     "metadata": {},
     "output_type": "execute_result"
    }
   ],
   "source": [
    "SQPH = pd.read_csv(\"SQPH Historical Data.csv\")\n",
    "len_sqph = len(SQPH)\n",
    "print(len_sqph)\n",
    "SQPH.head()"
   ]
  },
  {
   "cell_type": "code",
   "execution_count": 39,
   "id": "1442d237",
   "metadata": {},
   "outputs": [
    {
     "data": {
      "text/plain": [
       "Index(['Date', 'Price_SQPH', 'Open_SQPH', 'High_SQPH', 'Low_SQPH', 'Vol_SQPH',\n",
       "       'Change_SQPH'],\n",
       "      dtype='object')"
      ]
     },
     "execution_count": 39,
     "metadata": {},
     "output_type": "execute_result"
    }
   ],
   "source": [
    "SQPH.rename(columns={\"Price\":\"Price_SQPH\",\"Open\":\"Open_SQPH\",\"High\":\"High_SQPH\",\"Low\":\"Low_SQPH\",\"Vol.\":\"Vol_SQPH\",\"Change %\":\"Change_SQPH\"},inplace=True)\n",
    "SQPH.columns"
   ]
  },
  {
   "cell_type": "code",
   "execution_count": 40,
   "id": "a1c58046",
   "metadata": {},
   "outputs": [
    {
     "data": {
      "text/plain": [
       "Date            object\n",
       "Price_SQPH     float64\n",
       "Open_SQPH      float64\n",
       "High_SQPH      float64\n",
       "Low_SQPH       float64\n",
       "Vol_SQPH        object\n",
       "Change_SQPH     object\n",
       "dtype: object"
      ]
     },
     "execution_count": 40,
     "metadata": {},
     "output_type": "execute_result"
    }
   ],
   "source": [
    "SQPH.dtypes"
   ]
  },
  {
   "cell_type": "code",
   "execution_count": 41,
   "id": "65a4a09c",
   "metadata": {},
   "outputs": [
    {
     "data": {
      "text/plain": [
       "Date           datetime64[ns]\n",
       "Price_SQPH            float64\n",
       "Open_SQPH             float64\n",
       "High_SQPH             float64\n",
       "Low_SQPH              float64\n",
       "Vol_SQPH               object\n",
       "Change_SQPH            object\n",
       "dtype: object"
      ]
     },
     "execution_count": 41,
     "metadata": {},
     "output_type": "execute_result"
    }
   ],
   "source": [
    "SQPH[\"Date\"] = pd.to_datetime(SQPH[\"Date\"])\n",
    "SQPH.dtypes"
   ]
  },
  {
   "cell_type": "code",
   "execution_count": 42,
   "id": "f626b2c6",
   "metadata": {},
   "outputs": [
    {
     "name": "stdout",
     "output_type": "stream",
     "text": [
      "1\n"
     ]
    },
    {
     "data": {
      "text/html": [
       "<div>\n",
       "<style scoped>\n",
       "    .dataframe tbody tr th:only-of-type {\n",
       "        vertical-align: middle;\n",
       "    }\n",
       "\n",
       "    .dataframe tbody tr th {\n",
       "        vertical-align: top;\n",
       "    }\n",
       "\n",
       "    .dataframe thead th {\n",
       "        text-align: right;\n",
       "    }\n",
       "</style>\n",
       "<table border=\"1\" class=\"dataframe\">\n",
       "  <thead>\n",
       "    <tr style=\"text-align: right;\">\n",
       "      <th></th>\n",
       "      <th>Date</th>\n",
       "      <th>Price_SQPH</th>\n",
       "      <th>Open_SQPH</th>\n",
       "      <th>High_SQPH</th>\n",
       "      <th>Low_SQPH</th>\n",
       "      <th>Vol_SQPH</th>\n",
       "      <th>Change_SQPH</th>\n",
       "    </tr>\n",
       "  </thead>\n",
       "  <tbody>\n",
       "    <tr>\n",
       "      <th>3417</th>\n",
       "      <td>2008-04-06</td>\n",
       "      <td>62.18</td>\n",
       "      <td>62.18</td>\n",
       "      <td>62.18</td>\n",
       "      <td>62.18</td>\n",
       "      <td>NaN</td>\n",
       "      <td>0.00%</td>\n",
       "    </tr>\n",
       "  </tbody>\n",
       "</table>\n",
       "</div>"
      ],
      "text/plain": [
       "           Date  Price_SQPH  Open_SQPH  High_SQPH  Low_SQPH Vol_SQPH  \\\n",
       "3417 2008-04-06       62.18      62.18      62.18     62.18      NaN   \n",
       "\n",
       "     Change_SQPH  \n",
       "3417       0.00%  "
      ]
     },
     "execution_count": 42,
     "metadata": {},
     "output_type": "execute_result"
    }
   ],
   "source": [
    "print(SQPH.isna().sum().sum())\n",
    "SQPH[SQPH.isna().any(axis=1)]"
   ]
  },
  {
   "cell_type": "code",
   "execution_count": 43,
   "id": "cbe7c844",
   "metadata": {},
   "outputs": [
    {
     "name": "stdout",
     "output_type": "stream",
     "text": [
      "0\n"
     ]
    }
   ],
   "source": [
    "SQPH.dropna(inplace=True)\n",
    "print(SQPH.isna().sum().sum())\n",
    "SQPH.reset_index(drop=True, inplace=True)"
   ]
  },
  {
   "cell_type": "code",
   "execution_count": 44,
   "id": "0c7e75d9",
   "metadata": {},
   "outputs": [],
   "source": [
    "#Vol\n",
    "SQPH[\"Vol_SQPH\"] = SQPH[\"Vol_SQPH\"].astype(\"str\")\n",
    "SQPH[\"Vol_SQPH\"].apply(lambda x:x[-1:]).value_counts()\n",
    "units = {'K':1e3, 'M':1e6}\n",
    "SQPH[\"Vol_SQPH\"] = SQPH[\"Vol_SQPH\"].apply(lambda x:float(x[:-1])*units[x[-1:]])\n",
    "\n",
    "#Change\n",
    "SQPH[\"Change_SQPH\"] = SQPH[\"Change_SQPH\"].apply(lambda x:float(x[:-1]))"
   ]
  },
  {
   "cell_type": "code",
   "execution_count": 45,
   "id": "f2f86965",
   "metadata": {},
   "outputs": [
    {
     "name": "stdout",
     "output_type": "stream",
     "text": [
      "Wall time: 26.3 s\n"
     ]
    }
   ],
   "source": [
    "%%time\n",
    "\n",
    "#calculating MACD\n",
    "MACD(SQPH)\n",
    "\n",
    "#calculating RSI\n",
    "RSI(SQPH)\n",
    "\n",
    "#calculating CCI\n",
    "CCI(SQPH, number_of_days = 14)\n",
    "\n",
    "#calculating RSI\n",
    "ADX(SQPH)"
   ]
  },
  {
   "cell_type": "code",
   "execution_count": 46,
   "id": "d9b67747",
   "metadata": {},
   "outputs": [
    {
     "data": {
      "text/html": [
       "<div>\n",
       "<style scoped>\n",
       "    .dataframe tbody tr th:only-of-type {\n",
       "        vertical-align: middle;\n",
       "    }\n",
       "\n",
       "    .dataframe tbody tr th {\n",
       "        vertical-align: top;\n",
       "    }\n",
       "\n",
       "    .dataframe thead th {\n",
       "        text-align: right;\n",
       "    }\n",
       "</style>\n",
       "<table border=\"1\" class=\"dataframe\">\n",
       "  <thead>\n",
       "    <tr style=\"text-align: right;\">\n",
       "      <th></th>\n",
       "      <th>Date</th>\n",
       "      <th>Price_SQPH</th>\n",
       "      <th>MACD_SQPH</th>\n",
       "      <th>RSI_SQPH</th>\n",
       "      <th>CCI_SQPH</th>\n",
       "      <th>ADX_SQPH</th>\n",
       "    </tr>\n",
       "  </thead>\n",
       "  <tbody>\n",
       "    <tr>\n",
       "      <th>0</th>\n",
       "      <td>2022-09-04</td>\n",
       "      <td>212.6</td>\n",
       "      <td>0.000000</td>\n",
       "      <td>NaN</td>\n",
       "      <td>NaN</td>\n",
       "      <td>NaN</td>\n",
       "    </tr>\n",
       "    <tr>\n",
       "      <th>1</th>\n",
       "      <td>2022-09-01</td>\n",
       "      <td>211.8</td>\n",
       "      <td>-0.063818</td>\n",
       "      <td>0.000000</td>\n",
       "      <td>NaN</td>\n",
       "      <td>NaN</td>\n",
       "    </tr>\n",
       "    <tr>\n",
       "      <th>2</th>\n",
       "      <td>2022-08-31</td>\n",
       "      <td>211.1</td>\n",
       "      <td>-0.168930</td>\n",
       "      <td>0.000000</td>\n",
       "      <td>NaN</td>\n",
       "      <td>NaN</td>\n",
       "    </tr>\n",
       "    <tr>\n",
       "      <th>3</th>\n",
       "      <td>2022-08-30</td>\n",
       "      <td>211.9</td>\n",
       "      <td>-0.185541</td>\n",
       "      <td>7.202572</td>\n",
       "      <td>NaN</td>\n",
       "      <td>NaN</td>\n",
       "    </tr>\n",
       "    <tr>\n",
       "      <th>4</th>\n",
       "      <td>2022-08-29</td>\n",
       "      <td>212.1</td>\n",
       "      <td>-0.180486</td>\n",
       "      <td>8.967826</td>\n",
       "      <td>NaN</td>\n",
       "      <td>NaN</td>\n",
       "    </tr>\n",
       "  </tbody>\n",
       "</table>\n",
       "</div>"
      ],
      "text/plain": [
       "        Date  Price_SQPH  MACD_SQPH  RSI_SQPH  CCI_SQPH  ADX_SQPH\n",
       "0 2022-09-04       212.6   0.000000       NaN       NaN       NaN\n",
       "1 2022-09-01       211.8  -0.063818  0.000000       NaN       NaN\n",
       "2 2022-08-31       211.1  -0.168930  0.000000       NaN       NaN\n",
       "3 2022-08-30       211.9  -0.185541  7.202572       NaN       NaN\n",
       "4 2022-08-29       212.1  -0.180486  8.967826       NaN       NaN"
      ]
     },
     "execution_count": 46,
     "metadata": {},
     "output_type": "execute_result"
    }
   ],
   "source": [
    "SQPH.drop([\"Open_SQPH\", \"High_SQPH\", \"Low_SQPH\", \"Vol_SQPH\", \"Change_SQPH\"], axis=1, inplace=True)\n",
    "SQPH.head()"
   ]
  },
  {
   "cell_type": "code",
   "execution_count": 47,
   "id": "962c02be",
   "metadata": {},
   "outputs": [
    {
     "data": {
      "text/plain": [
       "Date           0\n",
       "Price_SQPH     0\n",
       "MACD_SQPH      0\n",
       "RSI_SQPH       1\n",
       "CCI_SQPH      18\n",
       "ADX_SQPH      27\n",
       "dtype: int64"
      ]
     },
     "execution_count": 47,
     "metadata": {},
     "output_type": "execute_result"
    }
   ],
   "source": [
    "SQPH.isna().sum()"
   ]
  },
  {
   "cell_type": "code",
   "execution_count": 53,
   "id": "a5cd046a",
   "metadata": {},
   "outputs": [],
   "source": [
    "SQPH[\"RSI_SQPH\"].bfill(limit=1, inplace=True)\n",
    "SQPH[\"CCI_SQPH\"].bfill(limit=18, inplace=True)\n",
    "SQPH[\"ADX_SQPH\"].bfill(limit=27, inplace=True)"
   ]
  },
  {
   "cell_type": "code",
   "execution_count": 49,
   "id": "2361f05a",
   "metadata": {},
   "outputs": [
    {
     "data": {
      "text/plain": [
       "Date          0\n",
       "Price_SQPH    0\n",
       "MACD_SQPH     0\n",
       "RSI_SQPH      0\n",
       "CCI_SQPH      0\n",
       "ADX_SQPH      0\n",
       "dtype: int64"
      ]
     },
     "execution_count": 49,
     "metadata": {},
     "output_type": "execute_result"
    }
   ],
   "source": [
    "SQPH.isna().sum()"
   ]
  },
  {
   "cell_type": "code",
   "execution_count": 50,
   "id": "6c686389",
   "metadata": {},
   "outputs": [
    {
     "data": {
      "text/html": [
       "<div>\n",
       "<style scoped>\n",
       "    .dataframe tbody tr th:only-of-type {\n",
       "        vertical-align: middle;\n",
       "    }\n",
       "\n",
       "    .dataframe tbody tr th {\n",
       "        vertical-align: top;\n",
       "    }\n",
       "\n",
       "    .dataframe thead th {\n",
       "        text-align: right;\n",
       "    }\n",
       "</style>\n",
       "<table border=\"1\" class=\"dataframe\">\n",
       "  <thead>\n",
       "    <tr style=\"text-align: right;\">\n",
       "      <th></th>\n",
       "      <th>Date</th>\n",
       "      <th>Price_SQPH</th>\n",
       "      <th>MACD_SQPH</th>\n",
       "      <th>RSI_SQPH</th>\n",
       "      <th>CCI_SQPH</th>\n",
       "      <th>ADX_SQPH</th>\n",
       "    </tr>\n",
       "  </thead>\n",
       "  <tbody>\n",
       "    <tr>\n",
       "      <th>0</th>\n",
       "      <td>2022-09-04</td>\n",
       "      <td>212.6</td>\n",
       "      <td>0.000000</td>\n",
       "      <td>0.000000</td>\n",
       "      <td>95.847363</td>\n",
       "      <td>12.825714</td>\n",
       "    </tr>\n",
       "    <tr>\n",
       "      <th>1</th>\n",
       "      <td>2022-09-01</td>\n",
       "      <td>211.8</td>\n",
       "      <td>-0.063818</td>\n",
       "      <td>0.000000</td>\n",
       "      <td>95.847363</td>\n",
       "      <td>12.825714</td>\n",
       "    </tr>\n",
       "    <tr>\n",
       "      <th>2</th>\n",
       "      <td>2022-08-31</td>\n",
       "      <td>211.1</td>\n",
       "      <td>-0.168930</td>\n",
       "      <td>0.000000</td>\n",
       "      <td>95.847363</td>\n",
       "      <td>12.825714</td>\n",
       "    </tr>\n",
       "    <tr>\n",
       "      <th>3</th>\n",
       "      <td>2022-08-30</td>\n",
       "      <td>211.9</td>\n",
       "      <td>-0.185541</td>\n",
       "      <td>7.202572</td>\n",
       "      <td>95.847363</td>\n",
       "      <td>12.825714</td>\n",
       "    </tr>\n",
       "    <tr>\n",
       "      <th>4</th>\n",
       "      <td>2022-08-29</td>\n",
       "      <td>212.1</td>\n",
       "      <td>-0.180486</td>\n",
       "      <td>8.967826</td>\n",
       "      <td>95.847363</td>\n",
       "      <td>12.825714</td>\n",
       "    </tr>\n",
       "  </tbody>\n",
       "</table>\n",
       "</div>"
      ],
      "text/plain": [
       "        Date  Price_SQPH  MACD_SQPH  RSI_SQPH   CCI_SQPH   ADX_SQPH\n",
       "0 2022-09-04       212.6   0.000000  0.000000  95.847363  12.825714\n",
       "1 2022-09-01       211.8  -0.063818  0.000000  95.847363  12.825714\n",
       "2 2022-08-31       211.1  -0.168930  0.000000  95.847363  12.825714\n",
       "3 2022-08-30       211.9  -0.185541  7.202572  95.847363  12.825714\n",
       "4 2022-08-29       212.1  -0.180486  8.967826  95.847363  12.825714"
      ]
     },
     "execution_count": 50,
     "metadata": {},
     "output_type": "execute_result"
    }
   ],
   "source": [
    "SQPH.head()"
   ]
  },
  {
   "cell_type": "code",
   "execution_count": 51,
   "id": "f0a91c63",
   "metadata": {},
   "outputs": [
    {
     "data": {
      "text/plain": [
       "Date          datetime64[ns]\n",
       "Price_SQPH           float64\n",
       "MACD_SQPH            float64\n",
       "RSI_SQPH             float64\n",
       "CCI_SQPH             float64\n",
       "ADX_SQPH             float64\n",
       "dtype: object"
      ]
     },
     "execution_count": 51,
     "metadata": {},
     "output_type": "execute_result"
    }
   ],
   "source": [
    "SQPH.dtypes"
   ]
  },
  {
   "cell_type": "code",
   "execution_count": 52,
   "id": "a90bd632",
   "metadata": {},
   "outputs": [
    {
     "data": {
      "text/html": [
       "<div>\n",
       "<style scoped>\n",
       "    .dataframe tbody tr th:only-of-type {\n",
       "        vertical-align: middle;\n",
       "    }\n",
       "\n",
       "    .dataframe tbody tr th {\n",
       "        vertical-align: top;\n",
       "    }\n",
       "\n",
       "    .dataframe thead th {\n",
       "        text-align: right;\n",
       "    }\n",
       "</style>\n",
       "<table border=\"1\" class=\"dataframe\">\n",
       "  <thead>\n",
       "    <tr style=\"text-align: right;\">\n",
       "      <th></th>\n",
       "      <th>Price_SQPH</th>\n",
       "      <th>MACD_SQPH</th>\n",
       "      <th>RSI_SQPH</th>\n",
       "      <th>CCI_SQPH</th>\n",
       "      <th>ADX_SQPH</th>\n",
       "    </tr>\n",
       "  </thead>\n",
       "  <tbody>\n",
       "    <tr>\n",
       "      <th>count</th>\n",
       "      <td>3503.000000</td>\n",
       "      <td>3503.000000</td>\n",
       "      <td>3503.000000</td>\n",
       "      <td>3503.000000</td>\n",
       "      <td>3503.000000</td>\n",
       "    </tr>\n",
       "    <tr>\n",
       "      <th>mean</th>\n",
       "      <td>149.694022</td>\n",
       "      <td>-0.328934</td>\n",
       "      <td>47.135280</td>\n",
       "      <td>inf</td>\n",
       "      <td>21.385435</td>\n",
       "    </tr>\n",
       "    <tr>\n",
       "      <th>std</th>\n",
       "      <td>72.999251</td>\n",
       "      <td>2.301539</td>\n",
       "      <td>13.792899</td>\n",
       "      <td>NaN</td>\n",
       "      <td>10.021925</td>\n",
       "    </tr>\n",
       "    <tr>\n",
       "      <th>min</th>\n",
       "      <td>39.450000</td>\n",
       "      <td>-9.014490</td>\n",
       "      <td>0.000000</td>\n",
       "      <td>-368.421053</td>\n",
       "      <td>2.730000</td>\n",
       "    </tr>\n",
       "    <tr>\n",
       "      <th>25%</th>\n",
       "      <td>76.065000</td>\n",
       "      <td>-1.515453</td>\n",
       "      <td>36.213161</td>\n",
       "      <td>-91.441800</td>\n",
       "      <td>13.810000</td>\n",
       "    </tr>\n",
       "    <tr>\n",
       "      <th>50%</th>\n",
       "      <td>168.610000</td>\n",
       "      <td>-0.321384</td>\n",
       "      <td>46.479479</td>\n",
       "      <td>-19.282736</td>\n",
       "      <td>19.440000</td>\n",
       "    </tr>\n",
       "    <tr>\n",
       "      <th>75%</th>\n",
       "      <td>215.550000</td>\n",
       "      <td>0.853173</td>\n",
       "      <td>57.537475</td>\n",
       "      <td>90.816562</td>\n",
       "      <td>26.270000</td>\n",
       "    </tr>\n",
       "    <tr>\n",
       "      <th>max</th>\n",
       "      <td>291.550000</td>\n",
       "      <td>8.482491</td>\n",
       "      <td>91.993521</td>\n",
       "      <td>inf</td>\n",
       "      <td>71.790000</td>\n",
       "    </tr>\n",
       "  </tbody>\n",
       "</table>\n",
       "</div>"
      ],
      "text/plain": [
       "        Price_SQPH    MACD_SQPH     RSI_SQPH     CCI_SQPH     ADX_SQPH\n",
       "count  3503.000000  3503.000000  3503.000000  3503.000000  3503.000000\n",
       "mean    149.694022    -0.328934    47.135280          inf    21.385435\n",
       "std      72.999251     2.301539    13.792899          NaN    10.021925\n",
       "min      39.450000    -9.014490     0.000000  -368.421053     2.730000\n",
       "25%      76.065000    -1.515453    36.213161   -91.441800    13.810000\n",
       "50%     168.610000    -0.321384    46.479479   -19.282736    19.440000\n",
       "75%     215.550000     0.853173    57.537475    90.816562    26.270000\n",
       "max     291.550000     8.482491    91.993521          inf    71.790000"
      ]
     },
     "execution_count": 52,
     "metadata": {},
     "output_type": "execute_result"
    }
   ],
   "source": [
    "SQPH.describe()"
   ]
  },
  {
   "cell_type": "markdown",
   "id": "8b580651",
   "metadata": {},
   "source": [
    "# ACIF - ACI Formulations Ltd"
   ]
  },
  {
   "cell_type": "code",
   "execution_count": 54,
   "id": "9052b1d8",
   "metadata": {},
   "outputs": [
    {
     "name": "stdout",
     "output_type": "stream",
     "text": [
      "3268\n"
     ]
    },
    {
     "data": {
      "text/html": [
       "<div>\n",
       "<style scoped>\n",
       "    .dataframe tbody tr th:only-of-type {\n",
       "        vertical-align: middle;\n",
       "    }\n",
       "\n",
       "    .dataframe tbody tr th {\n",
       "        vertical-align: top;\n",
       "    }\n",
       "\n",
       "    .dataframe thead th {\n",
       "        text-align: right;\n",
       "    }\n",
       "</style>\n",
       "<table border=\"1\" class=\"dataframe\">\n",
       "  <thead>\n",
       "    <tr style=\"text-align: right;\">\n",
       "      <th></th>\n",
       "      <th>Date</th>\n",
       "      <th>Price</th>\n",
       "      <th>Open</th>\n",
       "      <th>High</th>\n",
       "      <th>Low</th>\n",
       "      <th>Vol.</th>\n",
       "      <th>Change %</th>\n",
       "    </tr>\n",
       "  </thead>\n",
       "  <tbody>\n",
       "    <tr>\n",
       "      <th>0</th>\n",
       "      <td>Sep 04, 2022</td>\n",
       "      <td>173.8</td>\n",
       "      <td>183.0</td>\n",
       "      <td>184.0</td>\n",
       "      <td>171.6</td>\n",
       "      <td>831.80K</td>\n",
       "      <td>-0.57%</td>\n",
       "    </tr>\n",
       "    <tr>\n",
       "      <th>1</th>\n",
       "      <td>Sep 01, 2022</td>\n",
       "      <td>174.8</td>\n",
       "      <td>174.4</td>\n",
       "      <td>175.8</td>\n",
       "      <td>170.9</td>\n",
       "      <td>551.36K</td>\n",
       "      <td>1.92%</td>\n",
       "    </tr>\n",
       "    <tr>\n",
       "      <th>2</th>\n",
       "      <td>Aug 31, 2022</td>\n",
       "      <td>171.5</td>\n",
       "      <td>166.5</td>\n",
       "      <td>174.9</td>\n",
       "      <td>163.1</td>\n",
       "      <td>1.16M</td>\n",
       "      <td>4.38%</td>\n",
       "    </tr>\n",
       "    <tr>\n",
       "      <th>3</th>\n",
       "      <td>Aug 30, 2022</td>\n",
       "      <td>164.3</td>\n",
       "      <td>163.0</td>\n",
       "      <td>166.2</td>\n",
       "      <td>162.8</td>\n",
       "      <td>304.96K</td>\n",
       "      <td>1.05%</td>\n",
       "    </tr>\n",
       "    <tr>\n",
       "      <th>4</th>\n",
       "      <td>Aug 29, 2022</td>\n",
       "      <td>162.6</td>\n",
       "      <td>165.0</td>\n",
       "      <td>166.0</td>\n",
       "      <td>161.5</td>\n",
       "      <td>387.64K</td>\n",
       "      <td>-1.28%</td>\n",
       "    </tr>\n",
       "  </tbody>\n",
       "</table>\n",
       "</div>"
      ],
      "text/plain": [
       "           Date  Price   Open   High    Low     Vol. Change %\n",
       "0  Sep 04, 2022  173.8  183.0  184.0  171.6  831.80K   -0.57%\n",
       "1  Sep 01, 2022  174.8  174.4  175.8  170.9  551.36K    1.92%\n",
       "2  Aug 31, 2022  171.5  166.5  174.9  163.1    1.16M    4.38%\n",
       "3  Aug 30, 2022  164.3  163.0  166.2  162.8  304.96K    1.05%\n",
       "4  Aug 29, 2022  162.6  165.0  166.0  161.5  387.64K   -1.28%"
      ]
     },
     "execution_count": 54,
     "metadata": {},
     "output_type": "execute_result"
    }
   ],
   "source": [
    "ACIF = pd.read_csv(\"ACIF Historical Data.csv\")\n",
    "len_acif = len(ACIF)\n",
    "print(len_acif)\n",
    "ACIF.head()"
   ]
  },
  {
   "cell_type": "code",
   "execution_count": 55,
   "id": "4c7dff4b",
   "metadata": {},
   "outputs": [
    {
     "data": {
      "text/plain": [
       "Index(['Date', 'Price_ACIF', 'Open_ACIF', 'High_ACIF', 'Low_ACIF', 'Vol_ACIF',\n",
       "       'Change_ACIF'],\n",
       "      dtype='object')"
      ]
     },
     "execution_count": 55,
     "metadata": {},
     "output_type": "execute_result"
    }
   ],
   "source": [
    "ACIF.rename(columns={\"Price\":\"Price_ACIF\",\"Open\":\"Open_ACIF\",\"High\":\"High_ACIF\",\"Low\":\"Low_ACIF\",\"Vol.\":\"Vol_ACIF\",\"Change %\":\"Change_ACIF\"},inplace=True)\n",
    "ACIF.columns"
   ]
  },
  {
   "cell_type": "code",
   "execution_count": 56,
   "id": "6aa2065b",
   "metadata": {},
   "outputs": [
    {
     "data": {
      "text/plain": [
       "Date            object\n",
       "Price_ACIF     float64\n",
       "Open_ACIF      float64\n",
       "High_ACIF      float64\n",
       "Low_ACIF       float64\n",
       "Vol_ACIF        object\n",
       "Change_ACIF     object\n",
       "dtype: object"
      ]
     },
     "execution_count": 56,
     "metadata": {},
     "output_type": "execute_result"
    }
   ],
   "source": [
    "ACIF.dtypes"
   ]
  },
  {
   "cell_type": "code",
   "execution_count": 57,
   "id": "eebfa48f",
   "metadata": {},
   "outputs": [
    {
     "data": {
      "text/plain": [
       "Date           datetime64[ns]\n",
       "Price_ACIF            float64\n",
       "Open_ACIF             float64\n",
       "High_ACIF             float64\n",
       "Low_ACIF              float64\n",
       "Vol_ACIF               object\n",
       "Change_ACIF            object\n",
       "dtype: object"
      ]
     },
     "execution_count": 57,
     "metadata": {},
     "output_type": "execute_result"
    }
   ],
   "source": [
    "ACIF[\"Date\"] = pd.to_datetime(ACIF[\"Date\"])\n",
    "ACIF.dtypes"
   ]
  },
  {
   "cell_type": "code",
   "execution_count": 58,
   "id": "6dcfbe1a",
   "metadata": {},
   "outputs": [
    {
     "name": "stdout",
     "output_type": "stream",
     "text": [
      "0\n"
     ]
    }
   ],
   "source": [
    "print(ACIF.isna().sum().sum())"
   ]
  },
  {
   "cell_type": "code",
   "execution_count": 59,
   "id": "08b4955d",
   "metadata": {},
   "outputs": [],
   "source": [
    "#Vol\n",
    "ACIF[\"Vol_ACIF\"] = ACIF[\"Vol_ACIF\"].astype(\"str\")\n",
    "ACIF[\"Vol_ACIF\"].apply(lambda x:x[-1:]).value_counts()\n",
    "units = {'K':1e3, 'M':1e6}\n",
    "ACIF[\"Vol_ACIF\"] = ACIF[\"Vol_ACIF\"].apply(lambda x:float(x[:-1])*units[x[-1:]])\n",
    "\n",
    "#Change\n",
    "ACIF[\"Change_ACIF\"] = ACIF[\"Change_ACIF\"].apply(lambda x:float(x[:-1]))"
   ]
  },
  {
   "cell_type": "code",
   "execution_count": 60,
   "id": "4b47e7c1",
   "metadata": {},
   "outputs": [
    {
     "name": "stdout",
     "output_type": "stream",
     "text": [
      "Wall time: 24.4 s\n"
     ]
    }
   ],
   "source": [
    "%%time\n",
    "\n",
    "#calculating MACD\n",
    "MACD(ACIF)\n",
    "\n",
    "#calculating RSI\n",
    "RSI(ACIF)\n",
    "\n",
    "#calculating CCI\n",
    "CCI(ACIF, number_of_days = 14)\n",
    "\n",
    "#calculating RSI\n",
    "ADX(ACIF)"
   ]
  },
  {
   "cell_type": "code",
   "execution_count": 61,
   "id": "e92d529f",
   "metadata": {},
   "outputs": [
    {
     "data": {
      "text/html": [
       "<div>\n",
       "<style scoped>\n",
       "    .dataframe tbody tr th:only-of-type {\n",
       "        vertical-align: middle;\n",
       "    }\n",
       "\n",
       "    .dataframe tbody tr th {\n",
       "        vertical-align: top;\n",
       "    }\n",
       "\n",
       "    .dataframe thead th {\n",
       "        text-align: right;\n",
       "    }\n",
       "</style>\n",
       "<table border=\"1\" class=\"dataframe\">\n",
       "  <thead>\n",
       "    <tr style=\"text-align: right;\">\n",
       "      <th></th>\n",
       "      <th>Date</th>\n",
       "      <th>Price_ACIF</th>\n",
       "      <th>MACD_ACIF</th>\n",
       "      <th>RSI_ACIF</th>\n",
       "      <th>CCI_ACIF</th>\n",
       "      <th>ADX_ACIF</th>\n",
       "    </tr>\n",
       "  </thead>\n",
       "  <tbody>\n",
       "    <tr>\n",
       "      <th>0</th>\n",
       "      <td>2022-09-04</td>\n",
       "      <td>173.8</td>\n",
       "      <td>0.000000</td>\n",
       "      <td>NaN</td>\n",
       "      <td>NaN</td>\n",
       "      <td>NaN</td>\n",
       "    </tr>\n",
       "    <tr>\n",
       "      <th>1</th>\n",
       "      <td>2022-09-01</td>\n",
       "      <td>174.8</td>\n",
       "      <td>0.079772</td>\n",
       "      <td>100.000000</td>\n",
       "      <td>NaN</td>\n",
       "      <td>NaN</td>\n",
       "    </tr>\n",
       "    <tr>\n",
       "      <th>2</th>\n",
       "      <td>2022-08-31</td>\n",
       "      <td>171.5</td>\n",
       "      <td>-0.121885</td>\n",
       "      <td>79.754601</td>\n",
       "      <td>NaN</td>\n",
       "      <td>NaN</td>\n",
       "    </tr>\n",
       "    <tr>\n",
       "      <th>3</th>\n",
       "      <td>2022-08-30</td>\n",
       "      <td>164.3</td>\n",
       "      <td>-0.852849</td>\n",
       "      <td>54.045411</td>\n",
       "      <td>NaN</td>\n",
       "      <td>NaN</td>\n",
       "    </tr>\n",
       "    <tr>\n",
       "      <th>4</th>\n",
       "      <td>2022-08-29</td>\n",
       "      <td>162.6</td>\n",
       "      <td>-1.551435</td>\n",
       "      <td>49.951117</td>\n",
       "      <td>NaN</td>\n",
       "      <td>NaN</td>\n",
       "    </tr>\n",
       "  </tbody>\n",
       "</table>\n",
       "</div>"
      ],
      "text/plain": [
       "        Date  Price_ACIF  MACD_ACIF    RSI_ACIF  CCI_ACIF  ADX_ACIF\n",
       "0 2022-09-04       173.8   0.000000         NaN       NaN       NaN\n",
       "1 2022-09-01       174.8   0.079772  100.000000       NaN       NaN\n",
       "2 2022-08-31       171.5  -0.121885   79.754601       NaN       NaN\n",
       "3 2022-08-30       164.3  -0.852849   54.045411       NaN       NaN\n",
       "4 2022-08-29       162.6  -1.551435   49.951117       NaN       NaN"
      ]
     },
     "execution_count": 61,
     "metadata": {},
     "output_type": "execute_result"
    }
   ],
   "source": [
    "ACIF.drop([\"Open_ACIF\", \"High_ACIF\", \"Low_ACIF\", \"Vol_ACIF\", \"Change_ACIF\"], axis=1, inplace=True)\n",
    "ACIF.head()"
   ]
  },
  {
   "cell_type": "code",
   "execution_count": 62,
   "id": "118510d1",
   "metadata": {},
   "outputs": [
    {
     "data": {
      "text/plain": [
       "Date           0\n",
       "Price_ACIF     0\n",
       "MACD_ACIF      0\n",
       "RSI_ACIF       1\n",
       "CCI_ACIF      13\n",
       "ADX_ACIF      27\n",
       "dtype: int64"
      ]
     },
     "execution_count": 62,
     "metadata": {},
     "output_type": "execute_result"
    }
   ],
   "source": [
    "ACIF.isna().sum()"
   ]
  },
  {
   "cell_type": "code",
   "execution_count": 64,
   "id": "f21d0ce7",
   "metadata": {},
   "outputs": [],
   "source": [
    "ACIF[\"RSI_ACIF\"].bfill(limit=1, inplace=True)\n",
    "ACIF[\"CCI_ACIF\"].bfill(limit=18, inplace=True)\n",
    "ACIF[\"ADX_ACIF\"].bfill(limit=27, inplace=True)"
   ]
  },
  {
   "cell_type": "code",
   "execution_count": 65,
   "id": "36ebd9cb",
   "metadata": {},
   "outputs": [
    {
     "data": {
      "text/plain": [
       "Date          0\n",
       "Price_ACIF    0\n",
       "MACD_ACIF     0\n",
       "RSI_ACIF      0\n",
       "CCI_ACIF      0\n",
       "ADX_ACIF      0\n",
       "dtype: int64"
      ]
     },
     "execution_count": 65,
     "metadata": {},
     "output_type": "execute_result"
    }
   ],
   "source": [
    "ACIF.isna().sum()"
   ]
  },
  {
   "cell_type": "code",
   "execution_count": 66,
   "id": "3676c8d0",
   "metadata": {},
   "outputs": [
    {
     "data": {
      "text/html": [
       "<div>\n",
       "<style scoped>\n",
       "    .dataframe tbody tr th:only-of-type {\n",
       "        vertical-align: middle;\n",
       "    }\n",
       "\n",
       "    .dataframe tbody tr th {\n",
       "        vertical-align: top;\n",
       "    }\n",
       "\n",
       "    .dataframe thead th {\n",
       "        text-align: right;\n",
       "    }\n",
       "</style>\n",
       "<table border=\"1\" class=\"dataframe\">\n",
       "  <thead>\n",
       "    <tr style=\"text-align: right;\">\n",
       "      <th></th>\n",
       "      <th>Date</th>\n",
       "      <th>Price_ACIF</th>\n",
       "      <th>MACD_ACIF</th>\n",
       "      <th>RSI_ACIF</th>\n",
       "      <th>CCI_ACIF</th>\n",
       "      <th>ADX_ACIF</th>\n",
       "    </tr>\n",
       "  </thead>\n",
       "  <tbody>\n",
       "    <tr>\n",
       "      <th>0</th>\n",
       "      <td>2022-09-04</td>\n",
       "      <td>173.8</td>\n",
       "      <td>0.000000</td>\n",
       "      <td>100.000000</td>\n",
       "      <td>-92.565445</td>\n",
       "      <td>62.418571</td>\n",
       "    </tr>\n",
       "    <tr>\n",
       "      <th>1</th>\n",
       "      <td>2022-09-01</td>\n",
       "      <td>174.8</td>\n",
       "      <td>0.079772</td>\n",
       "      <td>100.000000</td>\n",
       "      <td>-92.565445</td>\n",
       "      <td>62.418571</td>\n",
       "    </tr>\n",
       "    <tr>\n",
       "      <th>2</th>\n",
       "      <td>2022-08-31</td>\n",
       "      <td>171.5</td>\n",
       "      <td>-0.121885</td>\n",
       "      <td>79.754601</td>\n",
       "      <td>-92.565445</td>\n",
       "      <td>62.418571</td>\n",
       "    </tr>\n",
       "    <tr>\n",
       "      <th>3</th>\n",
       "      <td>2022-08-30</td>\n",
       "      <td>164.3</td>\n",
       "      <td>-0.852849</td>\n",
       "      <td>54.045411</td>\n",
       "      <td>-92.565445</td>\n",
       "      <td>62.418571</td>\n",
       "    </tr>\n",
       "    <tr>\n",
       "      <th>4</th>\n",
       "      <td>2022-08-29</td>\n",
       "      <td>162.6</td>\n",
       "      <td>-1.551435</td>\n",
       "      <td>49.951117</td>\n",
       "      <td>-92.565445</td>\n",
       "      <td>62.418571</td>\n",
       "    </tr>\n",
       "  </tbody>\n",
       "</table>\n",
       "</div>"
      ],
      "text/plain": [
       "        Date  Price_ACIF  MACD_ACIF    RSI_ACIF   CCI_ACIF   ADX_ACIF\n",
       "0 2022-09-04       173.8   0.000000  100.000000 -92.565445  62.418571\n",
       "1 2022-09-01       174.8   0.079772  100.000000 -92.565445  62.418571\n",
       "2 2022-08-31       171.5  -0.121885   79.754601 -92.565445  62.418571\n",
       "3 2022-08-30       164.3  -0.852849   54.045411 -92.565445  62.418571\n",
       "4 2022-08-29       162.6  -1.551435   49.951117 -92.565445  62.418571"
      ]
     },
     "execution_count": 66,
     "metadata": {},
     "output_type": "execute_result"
    }
   ],
   "source": [
    "ACIF.head()"
   ]
  },
  {
   "cell_type": "code",
   "execution_count": 67,
   "id": "676c9625",
   "metadata": {},
   "outputs": [
    {
     "data": {
      "text/plain": [
       "Date          datetime64[ns]\n",
       "Price_ACIF           float64\n",
       "MACD_ACIF            float64\n",
       "RSI_ACIF             float64\n",
       "CCI_ACIF             float64\n",
       "ADX_ACIF             float64\n",
       "dtype: object"
      ]
     },
     "execution_count": 67,
     "metadata": {},
     "output_type": "execute_result"
    }
   ],
   "source": [
    "ACIF.dtypes"
   ]
  },
  {
   "cell_type": "code",
   "execution_count": 68,
   "id": "5e0519f5",
   "metadata": {},
   "outputs": [
    {
     "data": {
      "text/html": [
       "<div>\n",
       "<style scoped>\n",
       "    .dataframe tbody tr th:only-of-type {\n",
       "        vertical-align: middle;\n",
       "    }\n",
       "\n",
       "    .dataframe tbody tr th {\n",
       "        vertical-align: top;\n",
       "    }\n",
       "\n",
       "    .dataframe thead th {\n",
       "        text-align: right;\n",
       "    }\n",
       "</style>\n",
       "<table border=\"1\" class=\"dataframe\">\n",
       "  <thead>\n",
       "    <tr style=\"text-align: right;\">\n",
       "      <th></th>\n",
       "      <th>Price_ACIF</th>\n",
       "      <th>MACD_ACIF</th>\n",
       "      <th>RSI_ACIF</th>\n",
       "      <th>CCI_ACIF</th>\n",
       "      <th>ADX_ACIF</th>\n",
       "    </tr>\n",
       "  </thead>\n",
       "  <tbody>\n",
       "    <tr>\n",
       "      <th>count</th>\n",
       "      <td>3268.000000</td>\n",
       "      <td>3268.000000</td>\n",
       "      <td>3268.000000</td>\n",
       "      <td>3268.000000</td>\n",
       "      <td>3268.000000</td>\n",
       "    </tr>\n",
       "    <tr>\n",
       "      <th>mean</th>\n",
       "      <td>124.084819</td>\n",
       "      <td>-0.152888</td>\n",
       "      <td>50.686797</td>\n",
       "      <td>11.516218</td>\n",
       "      <td>23.195236</td>\n",
       "    </tr>\n",
       "    <tr>\n",
       "      <th>std</th>\n",
       "      <td>41.476406</td>\n",
       "      <td>3.412174</td>\n",
       "      <td>11.694522</td>\n",
       "      <td>108.587760</td>\n",
       "      <td>11.817574</td>\n",
       "    </tr>\n",
       "    <tr>\n",
       "      <th>min</th>\n",
       "      <td>40.320000</td>\n",
       "      <td>-20.387251</td>\n",
       "      <td>16.714488</td>\n",
       "      <td>-355.668590</td>\n",
       "      <td>6.750000</td>\n",
       "    </tr>\n",
       "    <tr>\n",
       "      <th>25%</th>\n",
       "      <td>84.760000</td>\n",
       "      <td>-1.561193</td>\n",
       "      <td>42.076843</td>\n",
       "      <td>-74.856811</td>\n",
       "      <td>14.500000</td>\n",
       "    </tr>\n",
       "    <tr>\n",
       "      <th>50%</th>\n",
       "      <td>119.110000</td>\n",
       "      <td>0.088673</td>\n",
       "      <td>50.705780</td>\n",
       "      <td>14.075325</td>\n",
       "      <td>19.870000</td>\n",
       "    </tr>\n",
       "    <tr>\n",
       "      <th>75%</th>\n",
       "      <td>157.062500</td>\n",
       "      <td>1.828604</td>\n",
       "      <td>59.273017</td>\n",
       "      <td>98.993122</td>\n",
       "      <td>28.440000</td>\n",
       "    </tr>\n",
       "    <tr>\n",
       "      <th>max</th>\n",
       "      <td>242.860000</td>\n",
       "      <td>11.970121</td>\n",
       "      <td>100.000000</td>\n",
       "      <td>340.761461</td>\n",
       "      <td>64.030000</td>\n",
       "    </tr>\n",
       "  </tbody>\n",
       "</table>\n",
       "</div>"
      ],
      "text/plain": [
       "        Price_ACIF    MACD_ACIF     RSI_ACIF     CCI_ACIF     ADX_ACIF\n",
       "count  3268.000000  3268.000000  3268.000000  3268.000000  3268.000000\n",
       "mean    124.084819    -0.152888    50.686797    11.516218    23.195236\n",
       "std      41.476406     3.412174    11.694522   108.587760    11.817574\n",
       "min      40.320000   -20.387251    16.714488  -355.668590     6.750000\n",
       "25%      84.760000    -1.561193    42.076843   -74.856811    14.500000\n",
       "50%     119.110000     0.088673    50.705780    14.075325    19.870000\n",
       "75%     157.062500     1.828604    59.273017    98.993122    28.440000\n",
       "max     242.860000    11.970121   100.000000   340.761461    64.030000"
      ]
     },
     "execution_count": 68,
     "metadata": {},
     "output_type": "execute_result"
    }
   ],
   "source": [
    "ACIF.describe()"
   ]
  },
  {
   "cell_type": "markdown",
   "id": "9f6d1807",
   "metadata": {},
   "source": [
    "# Merge - 3 Stocks"
   ]
  },
  {
   "cell_type": "code",
   "execution_count": 69,
   "id": "dd2b287e",
   "metadata": {},
   "outputs": [
    {
     "name": "stdout",
     "output_type": "stream",
     "text": [
      "3017\n",
      "3504\n"
     ]
    }
   ],
   "source": [
    "print(min(len_grae, len_sqph, len_acif))\n",
    "print(max(len_grae, len_sqph, len_acif))"
   ]
  },
  {
   "cell_type": "code",
   "execution_count": 70,
   "id": "1dfb5e29",
   "metadata": {},
   "outputs": [
    {
     "name": "stdout",
     "output_type": "stream",
     "text": [
      "2989\n"
     ]
    },
    {
     "data": {
      "text/html": [
       "<div>\n",
       "<style scoped>\n",
       "    .dataframe tbody tr th:only-of-type {\n",
       "        vertical-align: middle;\n",
       "    }\n",
       "\n",
       "    .dataframe tbody tr th {\n",
       "        vertical-align: top;\n",
       "    }\n",
       "\n",
       "    .dataframe thead th {\n",
       "        text-align: right;\n",
       "    }\n",
       "</style>\n",
       "<table border=\"1\" class=\"dataframe\">\n",
       "  <thead>\n",
       "    <tr style=\"text-align: right;\">\n",
       "      <th></th>\n",
       "      <th>Date</th>\n",
       "      <th>Price_GRAE</th>\n",
       "      <th>MACD_GRAE</th>\n",
       "      <th>RSI_GRAE</th>\n",
       "      <th>CCI_GRAE</th>\n",
       "      <th>ADX_GRAE</th>\n",
       "      <th>Price_SQPH</th>\n",
       "      <th>MACD_SQPH</th>\n",
       "      <th>RSI_SQPH</th>\n",
       "      <th>CCI_SQPH</th>\n",
       "      <th>ADX_SQPH</th>\n",
       "      <th>Price_ACIF</th>\n",
       "      <th>MACD_ACIF</th>\n",
       "      <th>RSI_ACIF</th>\n",
       "      <th>CCI_ACIF</th>\n",
       "      <th>ADX_ACIF</th>\n",
       "    </tr>\n",
       "  </thead>\n",
       "  <tbody>\n",
       "    <tr>\n",
       "      <th>0</th>\n",
       "      <td>2022-09-04</td>\n",
       "      <td>288.7</td>\n",
       "      <td>0.000000</td>\n",
       "      <td>100.000000</td>\n",
       "      <td>-14.475309</td>\n",
       "      <td>34.675</td>\n",
       "      <td>212.6</td>\n",
       "      <td>0.000000</td>\n",
       "      <td>0.000000</td>\n",
       "      <td>95.847363</td>\n",
       "      <td>12.825714</td>\n",
       "      <td>173.8</td>\n",
       "      <td>0.000000</td>\n",
       "      <td>100.000000</td>\n",
       "      <td>-92.565445</td>\n",
       "      <td>62.418571</td>\n",
       "    </tr>\n",
       "    <tr>\n",
       "      <th>1</th>\n",
       "      <td>2022-09-01</td>\n",
       "      <td>290.0</td>\n",
       "      <td>0.103704</td>\n",
       "      <td>100.000000</td>\n",
       "      <td>-14.475309</td>\n",
       "      <td>34.675</td>\n",
       "      <td>211.8</td>\n",
       "      <td>-0.063818</td>\n",
       "      <td>0.000000</td>\n",
       "      <td>95.847363</td>\n",
       "      <td>12.825714</td>\n",
       "      <td>174.8</td>\n",
       "      <td>0.079772</td>\n",
       "      <td>100.000000</td>\n",
       "      <td>-92.565445</td>\n",
       "      <td>62.418571</td>\n",
       "    </tr>\n",
       "    <tr>\n",
       "      <th>2</th>\n",
       "      <td>2022-08-31</td>\n",
       "      <td>287.8</td>\n",
       "      <td>0.008273</td>\n",
       "      <td>88.481675</td>\n",
       "      <td>-14.475309</td>\n",
       "      <td>34.675</td>\n",
       "      <td>211.1</td>\n",
       "      <td>-0.168930</td>\n",
       "      <td>0.000000</td>\n",
       "      <td>95.847363</td>\n",
       "      <td>12.825714</td>\n",
       "      <td>171.5</td>\n",
       "      <td>-0.121885</td>\n",
       "      <td>79.754601</td>\n",
       "      <td>-92.565445</td>\n",
       "      <td>62.418571</td>\n",
       "    </tr>\n",
       "    <tr>\n",
       "      <th>3</th>\n",
       "      <td>2022-08-30</td>\n",
       "      <td>288.1</td>\n",
       "      <td>-0.042658</td>\n",
       "      <td>88.673267</td>\n",
       "      <td>-14.475309</td>\n",
       "      <td>34.675</td>\n",
       "      <td>211.9</td>\n",
       "      <td>-0.185541</td>\n",
       "      <td>7.202572</td>\n",
       "      <td>95.847363</td>\n",
       "      <td>12.825714</td>\n",
       "      <td>164.3</td>\n",
       "      <td>-0.852849</td>\n",
       "      <td>54.045411</td>\n",
       "      <td>-92.565445</td>\n",
       "      <td>62.418571</td>\n",
       "    </tr>\n",
       "    <tr>\n",
       "      <th>4</th>\n",
       "      <td>2022-08-29</td>\n",
       "      <td>293.2</td>\n",
       "      <td>0.324763</td>\n",
       "      <td>91.317344</td>\n",
       "      <td>-14.475309</td>\n",
       "      <td>34.675</td>\n",
       "      <td>212.1</td>\n",
       "      <td>-0.180486</td>\n",
       "      <td>8.967826</td>\n",
       "      <td>95.847363</td>\n",
       "      <td>12.825714</td>\n",
       "      <td>162.6</td>\n",
       "      <td>-1.551435</td>\n",
       "      <td>49.951117</td>\n",
       "      <td>-92.565445</td>\n",
       "      <td>62.418571</td>\n",
       "    </tr>\n",
       "  </tbody>\n",
       "</table>\n",
       "</div>"
      ],
      "text/plain": [
       "        Date  Price_GRAE  MACD_GRAE    RSI_GRAE   CCI_GRAE  ADX_GRAE  \\\n",
       "0 2022-09-04       288.7   0.000000  100.000000 -14.475309    34.675   \n",
       "1 2022-09-01       290.0   0.103704  100.000000 -14.475309    34.675   \n",
       "2 2022-08-31       287.8   0.008273   88.481675 -14.475309    34.675   \n",
       "3 2022-08-30       288.1  -0.042658   88.673267 -14.475309    34.675   \n",
       "4 2022-08-29       293.2   0.324763   91.317344 -14.475309    34.675   \n",
       "\n",
       "   Price_SQPH  MACD_SQPH  RSI_SQPH   CCI_SQPH   ADX_SQPH  Price_ACIF  \\\n",
       "0       212.6   0.000000  0.000000  95.847363  12.825714       173.8   \n",
       "1       211.8  -0.063818  0.000000  95.847363  12.825714       174.8   \n",
       "2       211.1  -0.168930  0.000000  95.847363  12.825714       171.5   \n",
       "3       211.9  -0.185541  7.202572  95.847363  12.825714       164.3   \n",
       "4       212.1  -0.180486  8.967826  95.847363  12.825714       162.6   \n",
       "\n",
       "   MACD_ACIF    RSI_ACIF   CCI_ACIF   ADX_ACIF  \n",
       "0   0.000000  100.000000 -92.565445  62.418571  \n",
       "1   0.079772  100.000000 -92.565445  62.418571  \n",
       "2  -0.121885   79.754601 -92.565445  62.418571  \n",
       "3  -0.852849   54.045411 -92.565445  62.418571  \n",
       "4  -1.551435   49.951117 -92.565445  62.418571  "
      ]
     },
     "execution_count": 70,
     "metadata": {},
     "output_type": "execute_result"
    }
   ],
   "source": [
    "data = pd.merge(pd.merge(GRAE,SQPH,on='Date'),ACIF,on='Date')\n",
    "print(len(data))\n",
    "data.head()"
   ]
  },
  {
   "cell_type": "code",
   "execution_count": 71,
   "id": "dd4faf23",
   "metadata": {},
   "outputs": [
    {
     "data": {
      "text/html": [
       "<div>\n",
       "<style scoped>\n",
       "    .dataframe tbody tr th:only-of-type {\n",
       "        vertical-align: middle;\n",
       "    }\n",
       "\n",
       "    .dataframe tbody tr th {\n",
       "        vertical-align: top;\n",
       "    }\n",
       "\n",
       "    .dataframe thead th {\n",
       "        text-align: right;\n",
       "    }\n",
       "</style>\n",
       "<table border=\"1\" class=\"dataframe\">\n",
       "  <thead>\n",
       "    <tr style=\"text-align: right;\">\n",
       "      <th></th>\n",
       "      <th>Date</th>\n",
       "      <th>Price_GRAE</th>\n",
       "      <th>MACD_GRAE</th>\n",
       "      <th>RSI_GRAE</th>\n",
       "      <th>CCI_GRAE</th>\n",
       "      <th>ADX_GRAE</th>\n",
       "      <th>Price_SQPH</th>\n",
       "      <th>MACD_SQPH</th>\n",
       "      <th>RSI_SQPH</th>\n",
       "      <th>CCI_SQPH</th>\n",
       "      <th>ADX_SQPH</th>\n",
       "      <th>Price_ACIF</th>\n",
       "      <th>MACD_ACIF</th>\n",
       "      <th>RSI_ACIF</th>\n",
       "      <th>CCI_ACIF</th>\n",
       "      <th>ADX_ACIF</th>\n",
       "    </tr>\n",
       "  </thead>\n",
       "  <tbody>\n",
       "    <tr>\n",
       "      <th>2984</th>\n",
       "      <td>2009-11-24</td>\n",
       "      <td>174.8</td>\n",
       "      <td>-9.243747</td>\n",
       "      <td>36.283072</td>\n",
       "      <td>-11.913146</td>\n",
       "      <td>45.18</td>\n",
       "      <td>52.81</td>\n",
       "      <td>-0.609071</td>\n",
       "      <td>45.580093</td>\n",
       "      <td>34.504005</td>\n",
       "      <td>18.87</td>\n",
       "      <td>112.57</td>\n",
       "      <td>-0.106855</td>\n",
       "      <td>55.499371</td>\n",
       "      <td>117.189982</td>\n",
       "      <td>10.08</td>\n",
       "    </tr>\n",
       "    <tr>\n",
       "      <th>2985</th>\n",
       "      <td>2009-11-23</td>\n",
       "      <td>168.5</td>\n",
       "      <td>-9.150214</td>\n",
       "      <td>31.494288</td>\n",
       "      <td>-131.861199</td>\n",
       "      <td>46.38</td>\n",
       "      <td>51.80</td>\n",
       "      <td>-0.624922</td>\n",
       "      <td>37.973017</td>\n",
       "      <td>-123.819554</td>\n",
       "      <td>17.91</td>\n",
       "      <td>110.29</td>\n",
       "      <td>-0.147102</td>\n",
       "      <td>47.698214</td>\n",
       "      <td>-14.701006</td>\n",
       "      <td>10.16</td>\n",
       "    </tr>\n",
       "    <tr>\n",
       "      <th>2986</th>\n",
       "      <td>2009-11-22</td>\n",
       "      <td>165.7</td>\n",
       "      <td>-9.196020</td>\n",
       "      <td>29.622953</td>\n",
       "      <td>-137.570621</td>\n",
       "      <td>47.49</td>\n",
       "      <td>50.46</td>\n",
       "      <td>-0.737113</td>\n",
       "      <td>30.661547</td>\n",
       "      <td>-207.836308</td>\n",
       "      <td>17.01</td>\n",
       "      <td>110.60</td>\n",
       "      <td>-0.152228</td>\n",
       "      <td>48.752968</td>\n",
       "      <td>-7.592998</td>\n",
       "      <td>10.18</td>\n",
       "    </tr>\n",
       "    <tr>\n",
       "      <th>2987</th>\n",
       "      <td>2009-11-19</td>\n",
       "      <td>164.0</td>\n",
       "      <td>-9.262722</td>\n",
       "      <td>28.515129</td>\n",
       "      <td>-178.234488</td>\n",
       "      <td>48.52</td>\n",
       "      <td>50.56</td>\n",
       "      <td>-0.808635</td>\n",
       "      <td>31.718157</td>\n",
       "      <td>-166.432532</td>\n",
       "      <td>16.14</td>\n",
       "      <td>109.65</td>\n",
       "      <td>-0.230293</td>\n",
       "      <td>45.710690</td>\n",
       "      <td>-68.681733</td>\n",
       "      <td>10.19</td>\n",
       "    </tr>\n",
       "    <tr>\n",
       "      <th>2988</th>\n",
       "      <td>2009-11-18</td>\n",
       "      <td>158.2</td>\n",
       "      <td>-9.672102</td>\n",
       "      <td>25.070313</td>\n",
       "      <td>-137.446000</td>\n",
       "      <td>46.17</td>\n",
       "      <td>50.47</td>\n",
       "      <td>-0.862635</td>\n",
       "      <td>31.256511</td>\n",
       "      <td>-141.855707</td>\n",
       "      <td>15.36</td>\n",
       "      <td>109.71</td>\n",
       "      <td>-0.284044</td>\n",
       "      <td>45.940138</td>\n",
       "      <td>-49.687199</td>\n",
       "      <td>9.68</td>\n",
       "    </tr>\n",
       "  </tbody>\n",
       "</table>\n",
       "</div>"
      ],
      "text/plain": [
       "           Date  Price_GRAE  MACD_GRAE   RSI_GRAE    CCI_GRAE  ADX_GRAE  \\\n",
       "2984 2009-11-24       174.8  -9.243747  36.283072  -11.913146     45.18   \n",
       "2985 2009-11-23       168.5  -9.150214  31.494288 -131.861199     46.38   \n",
       "2986 2009-11-22       165.7  -9.196020  29.622953 -137.570621     47.49   \n",
       "2987 2009-11-19       164.0  -9.262722  28.515129 -178.234488     48.52   \n",
       "2988 2009-11-18       158.2  -9.672102  25.070313 -137.446000     46.17   \n",
       "\n",
       "      Price_SQPH  MACD_SQPH   RSI_SQPH    CCI_SQPH  ADX_SQPH  Price_ACIF  \\\n",
       "2984       52.81  -0.609071  45.580093   34.504005     18.87      112.57   \n",
       "2985       51.80  -0.624922  37.973017 -123.819554     17.91      110.29   \n",
       "2986       50.46  -0.737113  30.661547 -207.836308     17.01      110.60   \n",
       "2987       50.56  -0.808635  31.718157 -166.432532     16.14      109.65   \n",
       "2988       50.47  -0.862635  31.256511 -141.855707     15.36      109.71   \n",
       "\n",
       "      MACD_ACIF   RSI_ACIF    CCI_ACIF  ADX_ACIF  \n",
       "2984  -0.106855  55.499371  117.189982     10.08  \n",
       "2985  -0.147102  47.698214  -14.701006     10.16  \n",
       "2986  -0.152228  48.752968   -7.592998     10.18  \n",
       "2987  -0.230293  45.710690  -68.681733     10.19  \n",
       "2988  -0.284044  45.940138  -49.687199      9.68  "
      ]
     },
     "execution_count": 71,
     "metadata": {},
     "output_type": "execute_result"
    }
   ],
   "source": [
    "data.tail()"
   ]
  },
  {
   "cell_type": "code",
   "execution_count": 72,
   "id": "cead4a1f",
   "metadata": {},
   "outputs": [
    {
     "data": {
      "text/plain": [
       "Index(['Date', 'Price_GRAE', 'MACD_GRAE', 'RSI_GRAE', 'CCI_GRAE', 'ADX_GRAE',\n",
       "       'Price_SQPH', 'MACD_SQPH', 'RSI_SQPH', 'CCI_SQPH', 'ADX_SQPH',\n",
       "       'Price_ACIF', 'MACD_ACIF', 'RSI_ACIF', 'CCI_ACIF', 'ADX_ACIF'],\n",
       "      dtype='object')"
      ]
     },
     "execution_count": 72,
     "metadata": {},
     "output_type": "execute_result"
    }
   ],
   "source": [
    "data.columns"
   ]
  },
  {
   "cell_type": "code",
   "execution_count": 73,
   "id": "881a8e1f",
   "metadata": {},
   "outputs": [
    {
     "data": {
      "text/plain": [
       "0"
      ]
     },
     "execution_count": 73,
     "metadata": {},
     "output_type": "execute_result"
    }
   ],
   "source": [
    "data.isna().sum().sum()"
   ]
  },
  {
   "cell_type": "code",
   "execution_count": 74,
   "id": "37f3c659",
   "metadata": {},
   "outputs": [],
   "source": [
    "data.to_csv(\"stock_data.csv\",index=False)"
   ]
  },
  {
   "cell_type": "code",
   "execution_count": null,
   "id": "ca42b351",
   "metadata": {},
   "outputs": [],
   "source": []
  },
  {
   "cell_type": "code",
   "execution_count": null,
   "id": "1bfc05b7",
   "metadata": {},
   "outputs": [],
   "source": []
  }
 ],
 "metadata": {
  "kernelspec": {
   "display_name": "Python 3 (ipykernel)",
   "language": "python",
   "name": "python3"
  },
  "language_info": {
   "codemirror_mode": {
    "name": "ipython",
    "version": 3
   },
   "file_extension": ".py",
   "mimetype": "text/x-python",
   "name": "python",
   "nbconvert_exporter": "python",
   "pygments_lexer": "ipython3",
   "version": "3.9.7"
  }
 },
 "nbformat": 4,
 "nbformat_minor": 5
}
